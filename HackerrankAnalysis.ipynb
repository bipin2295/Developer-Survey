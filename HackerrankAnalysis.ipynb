{
 "cells": [
  {
   "cell_type": "code",
   "execution_count": 39,
   "metadata": {},
   "outputs": [],
   "source": [
    "import pandas as pd\n",
    "import numpy as np\n",
    "import matplotlib.pyplot as plt\n",
    "import seaborn as sns"
   ]
  },
  {
   "cell_type": "code",
   "execution_count": 2,
   "metadata": {},
   "outputs": [],
   "source": [
    "survey = pd.read_csv('HackerRank-Developer-Survey-2018-Values.csv', low_memory=False)\n",
    "survey_num = pd.read_csv('HackerRank-Developer-Survey-2018-Numeric.csv', low_memory=False)"
   ]
  },
  {
   "cell_type": "code",
   "execution_count": 3,
   "metadata": {},
   "outputs": [
    {
     "name": "stdout",
     "output_type": "stream",
     "text": [
      "   RespondentID       StartDate         EndDate CountryNumeric  \\\n",
      "0  6.464454e+09  10/19/17 11:51  10/20/17 12:05    South Korea   \n",
      "1  6.478032e+09   10/26/17 6:18   10/26/17 7:49        Ukraine   \n",
      "2  6.464393e+09  10/19/17 10:44  10/19/17 10:56         Latvia   \n",
      "3  6.481630e+09   10/27/17 1:51   10/27/17 2:05          China   \n",
      "4  6.488385e+09  10/31/17 11:46  10/31/17 11:59            NaN   \n",
      "\n",
      "    q1AgeBeginCoding              q2Age q3Gender  \\\n",
      "0  16 - 20 years old  18 - 24 years old   Female   \n",
      "1  16 - 20 years old  25 - 34 years old     Male   \n",
      "2  11 - 15 years old  12 - 18 years old   Female   \n",
      "3  11 - 15 years old  12 - 18 years old     Male   \n",
      "4  16 - 20 years old  25 - 34 years old   Female   \n",
      "\n",
      "                           q4Education q0004_other  \\\n",
      "0                         Some college         NaN   \n",
      "1  Post graduate degree (Masters, PhD)         NaN   \n",
      "2                         Some college         NaN   \n",
      "3                     College graduate         NaN   \n",
      "4                     College graduate         NaN   \n",
      "\n",
      "                                       q5DegreeFocus    ...     \\\n",
      "0                                   Computer Science    ...      \n",
      "1  Other STEM (science, technology, engineering, ...    ...      \n",
      "2  Other STEM (science, technology, engineering, ...    ...      \n",
      "3                                   Computer Science    ...      \n",
      "4                                                NaN    ...      \n",
      "\n",
      "        q30LearnCodeOther                         q0030_other   q31Level3  \\\n",
      "0  Other (please specify)                            datacamp  num%2 == 0   \n",
      "1                     NaN                                 NaN  num%2 == 0   \n",
      "2                     NaN                                 NaN  num%2 == 0   \n",
      "3                     NaN                                 NaN  num%2 == 0   \n",
      "4  Other (please specify)  Blogs/articles by industry leaders  num%2 == 0   \n",
      "\n",
      "  q32RecommendHackerRank q0032_other q33HackerRankChallforJob q34PositiveExp  \\\n",
      "0                    Yes         NaN                       No            NaN   \n",
      "1                    Yes         NaN                       No            NaN   \n",
      "2                    Yes         NaN                       No            NaN   \n",
      "3                    Yes         NaN                       No            NaN   \n",
      "4                    Yes         NaN                       No            NaN   \n",
      "\n",
      "  q34IdealLengHackerRankTest q0035_other q36Level4  \n",
      "0                     #NULL!         NaN     Queue  \n",
      "1                     #NULL!         NaN     Queue  \n",
      "2                     #NULL!         NaN     Queue  \n",
      "3                     #NULL!         NaN   Hashmap  \n",
      "4                     #NULL!         NaN   Hashmap  \n",
      "\n",
      "[5 rows x 251 columns]\n",
      "--------------------------------------------------\n",
      "<class 'pandas.core.frame.DataFrame'>\n",
      "RangeIndex: 25093 entries, 0 to 25092\n",
      "Columns: 251 entries, RespondentID to q36Level4\n",
      "dtypes: float64(5), object(246)\n",
      "memory usage: 48.1+ MB\n",
      "None\n"
     ]
    }
   ],
   "source": [
    "print(survey.head(5))\n",
    "print('-'*50)\n",
    "print(survey.info())\n"
   ]
  },
  {
   "cell_type": "code",
   "execution_count": 4,
   "metadata": {},
   "outputs": [
    {
     "name": "stdout",
     "output_type": "stream",
     "text": [
      "(25093, 251)\n",
      "(25093, 251)\n"
     ]
    }
   ],
   "source": [
    "print(survey.shape)\n",
    "print(survey_num.shape)"
   ]
  },
  {
   "cell_type": "markdown",
   "metadata": {},
   "source": [
    "### Replace #NULL! with NaN"
   ]
  },
  {
   "cell_type": "code",
   "execution_count": 5,
   "metadata": {},
   "outputs": [],
   "source": [
    "survey = survey.replace('#NULL!',np.nan)\n",
    "survey_num = survey_num.replace('#NULL!',np.nan)"
   ]
  },
  {
   "cell_type": "code",
   "execution_count": 6,
   "metadata": {},
   "outputs": [
    {
     "name": "stdout",
     "output_type": "stream",
     "text": [
      "   RespondentID       StartDate         EndDate CountryNumeric  \\\n",
      "0  6.464454e+09  10/19/17 11:51  10/20/17 12:05    South Korea   \n",
      "1  6.478032e+09   10/26/17 6:18   10/26/17 7:49        Ukraine   \n",
      "2  6.464393e+09  10/19/17 10:44  10/19/17 10:56         Latvia   \n",
      "3  6.481630e+09   10/27/17 1:51   10/27/17 2:05          China   \n",
      "4  6.488385e+09  10/31/17 11:46  10/31/17 11:59            NaN   \n",
      "\n",
      "    q1AgeBeginCoding              q2Age q3Gender  \\\n",
      "0  16 - 20 years old  18 - 24 years old   Female   \n",
      "1  16 - 20 years old  25 - 34 years old     Male   \n",
      "2  11 - 15 years old  12 - 18 years old   Female   \n",
      "3  11 - 15 years old  12 - 18 years old     Male   \n",
      "4  16 - 20 years old  25 - 34 years old   Female   \n",
      "\n",
      "                           q4Education q0004_other  \\\n",
      "0                         Some college         NaN   \n",
      "1  Post graduate degree (Masters, PhD)         NaN   \n",
      "2                         Some college         NaN   \n",
      "3                     College graduate         NaN   \n",
      "4                     College graduate         NaN   \n",
      "\n",
      "                                       q5DegreeFocus    ...     \\\n",
      "0                                   Computer Science    ...      \n",
      "1  Other STEM (science, technology, engineering, ...    ...      \n",
      "2  Other STEM (science, technology, engineering, ...    ...      \n",
      "3                                   Computer Science    ...      \n",
      "4                                                NaN    ...      \n",
      "\n",
      "        q30LearnCodeOther                         q0030_other   q31Level3  \\\n",
      "0  Other (please specify)                            datacamp  num%2 == 0   \n",
      "1                     NaN                                 NaN  num%2 == 0   \n",
      "2                     NaN                                 NaN  num%2 == 0   \n",
      "3                     NaN                                 NaN  num%2 == 0   \n",
      "4  Other (please specify)  Blogs/articles by industry leaders  num%2 == 0   \n",
      "\n",
      "  q32RecommendHackerRank q0032_other q33HackerRankChallforJob q34PositiveExp  \\\n",
      "0                    Yes         NaN                       No            NaN   \n",
      "1                    Yes         NaN                       No            NaN   \n",
      "2                    Yes         NaN                       No            NaN   \n",
      "3                    Yes         NaN                       No            NaN   \n",
      "4                    Yes         NaN                       No            NaN   \n",
      "\n",
      "  q34IdealLengHackerRankTest q0035_other q36Level4  \n",
      "0                        NaN         NaN     Queue  \n",
      "1                        NaN         NaN     Queue  \n",
      "2                        NaN         NaN     Queue  \n",
      "3                        NaN         NaN   Hashmap  \n",
      "4                        NaN         NaN   Hashmap  \n",
      "\n",
      "[5 rows x 251 columns]\n"
     ]
    }
   ],
   "source": [
    "print(survey.head(5))"
   ]
  },
  {
   "cell_type": "code",
   "execution_count": 7,
   "metadata": {},
   "outputs": [],
   "source": [
    "survey.drop(['StartDate','EndDate'], axis=1, inplace=True)\n",
    "survey_num.drop(['StartDate','EndDate'], axis=1, inplace=True)"
   ]
  },
  {
   "cell_type": "code",
   "execution_count": 8,
   "metadata": {},
   "outputs": [
    {
     "name": "stdout",
     "output_type": "stream",
     "text": [
      "(25093, 249)\n",
      "(25093, 249)\n"
     ]
    }
   ],
   "source": [
    "print(survey.shape)\n",
    "print(survey_num.shape)"
   ]
  },
  {
   "cell_type": "code",
   "execution_count": 9,
   "metadata": {},
   "outputs": [
    {
     "data": {
      "text/plain": [
       "(True, True)"
      ]
     },
     "execution_count": 9,
     "metadata": {},
     "output_type": "execute_result"
    }
   ],
   "source": [
    "survey.isnull().values.any(), survey_num.isnull().values.any()"
   ]
  },
  {
   "cell_type": "code",
   "execution_count": 10,
   "metadata": {},
   "outputs": [
    {
     "data": {
      "text/plain": [
       "RespondentID                       3\n",
       "CountryNumeric                  2929\n",
       "q1AgeBeginCoding                  33\n",
       "q2Age                             44\n",
       "q3Gender                          72\n",
       "q4Education                      308\n",
       "q0004_other                    24633\n",
       "q5DegreeFocus                   1324\n",
       "q0005_other                    23381\n",
       "q6LearnCodeUni                  7661\n",
       "q6LearnCodeSelfTaught           7493\n",
       "q6LearnCodeAccelTrain          23261\n",
       "q6LearnCodeDontKnowHowToYet    24750\n",
       "q6LearnCodeOther               24604\n",
       "q0006_other                    24604\n",
       "q7Level1                           3\n",
       "q8JobLevel                       960\n",
       "q0008_other                    24136\n",
       "q8Student                      14742\n",
       "q9CurrentRole                   1038\n",
       "q0009_other                    24049\n",
       "q10Industry                     3197\n",
       "q0010_other                    21583\n",
       "q12JobCritPrefTechStack        19544\n",
       "q12JobCritCompMission          20930\n",
       "q12JobCritCompCulture          16101\n",
       "q12JobCritWorkLifeBal          11445\n",
       "q12JobCritCompensation         16722\n",
       "q12JobCritProximity            22218\n",
       "q12JobCritPerks                22679\n",
       "                               ...  \n",
       "q29FrameLoveDjango             18074\n",
       "q29FrameLovePyramid            21794\n",
       "q29FrameLoveRubyonRails        19246\n",
       "q29FrameLovePadrino            22111\n",
       "q29FrameLoveASP                19156\n",
       "q29FrameLoveNetCore            19040\n",
       "q29FrameLoveNodeDotjs          15684\n",
       "q29FrameLoveExpressJS          19432\n",
       "q29FrameLoveMeteor             21588\n",
       "q29FrameLoveCocoa              21602\n",
       "q29FrameLoveReactNative        20317\n",
       "q29FrameLoveRubyMotion         21988\n",
       "q0029_other                    24430\n",
       "q30LearnCodeStackOverflow       4092\n",
       "q30LearnCodeYoutube             8132\n",
       "q30LearnCodeMOOC               12809\n",
       "q30LearnCodeCompCodingSites    15050\n",
       "q30LearnCodeOnlineTutorial     13771\n",
       "q30LearnCodeBooks               9991\n",
       "q30LearnCodeAcademicPaper      19532\n",
       "q30LearnCodeOther              23869\n",
       "q0030_other                    23870\n",
       "q31Level3                          3\n",
       "q32RecommendHackerRank           496\n",
       "q0032_other                    24711\n",
       "q33HackerRankChallforJob         189\n",
       "q34PositiveExp                 16076\n",
       "q34IdealLengHackerRankTest     15168\n",
       "q0035_other                    24884\n",
       "q36Level4                        166\n",
       "Length: 249, dtype: int64"
      ]
     },
     "execution_count": 10,
     "metadata": {},
     "output_type": "execute_result"
    }
   ],
   "source": [
    "survey.isnull().sum()"
   ]
  },
  {
   "cell_type": "code",
   "execution_count": 11,
   "metadata": {},
   "outputs": [
    {
     "name": "stdout",
     "output_type": "stream",
     "text": [
      "(25093, 249)\n",
      "(25092, 249)\n"
     ]
    }
   ],
   "source": [
    "print(survey.shape)\n",
    "survey.dropna(axis=0,how='all',inplace=True)\n",
    "print(survey.shape)"
   ]
  },
  {
   "cell_type": "code",
   "execution_count": 12,
   "metadata": {},
   "outputs": [
    {
     "data": {
      "text/plain": [
       "RespondentID                       3\n",
       "CountryNumeric                     3\n",
       "q1AgeBeginCoding                  33\n",
       "q2Age                             44\n",
       "q3Gender                          72\n",
       "q4Education                      308\n",
       "q0004_other                    24633\n",
       "q5DegreeFocus                    165\n",
       "q0005_other                    23381\n",
       "q6LearnCodeUni                     3\n",
       "q6LearnCodeSelfTaught              3\n",
       "q6LearnCodeAccelTrain              3\n",
       "q6LearnCodeDontKnowHowToYet        3\n",
       "q6LearnCodeOther                   3\n",
       "q0006_other                    24604\n",
       "q7Level1                           3\n",
       "q8JobLevel                         3\n",
       "q0008_other                    24136\n",
       "q8Student                          3\n",
       "q9CurrentRole                     38\n",
       "q0009_other                    24049\n",
       "q10Industry                      677\n",
       "q0010_other                    21583\n",
       "q12JobCritPrefTechStack            3\n",
       "q12JobCritCompMission              3\n",
       "q12JobCritCompCulture              3\n",
       "q12JobCritWorkLifeBal              3\n",
       "q12JobCritCompensation             3\n",
       "q12JobCritProximity                3\n",
       "q12JobCritPerks                    3\n",
       "                               ...  \n",
       "q29FrameLoveDjango                 3\n",
       "q29FrameLovePyramid                3\n",
       "q29FrameLoveRubyonRails            3\n",
       "q29FrameLovePadrino                3\n",
       "q29FrameLoveASP                    3\n",
       "q29FrameLoveNetCore                3\n",
       "q29FrameLoveNodeDotjs              3\n",
       "q29FrameLoveExpressJS              3\n",
       "q29FrameLoveMeteor                 3\n",
       "q29FrameLoveCocoa                  3\n",
       "q29FrameLoveReactNative            3\n",
       "q29FrameLoveRubyMotion             3\n",
       "q0029_other                    24430\n",
       "q30LearnCodeStackOverflow          3\n",
       "q30LearnCodeYoutube                3\n",
       "q30LearnCodeMOOC                   3\n",
       "q30LearnCodeCompCodingSites        3\n",
       "q30LearnCodeOnlineTutorial         3\n",
       "q30LearnCodeBooks                  3\n",
       "q30LearnCodeAcademicPaper          3\n",
       "q30LearnCodeOther                  3\n",
       "q0030_other                    23870\n",
       "q31Level3                          3\n",
       "q32RecommendHackerRank           113\n",
       "q0032_other                    24711\n",
       "q33HackerRankChallforJob         189\n",
       "q34PositiveExp                 16076\n",
       "q34IdealLengHackerRankTest     14958\n",
       "q0035_other                    24884\n",
       "q36Level4                        166\n",
       "Length: 249, dtype: int64"
      ]
     },
     "execution_count": 12,
     "metadata": {},
     "output_type": "execute_result"
    }
   ],
   "source": [
    "survey_num.isnull().sum()"
   ]
  },
  {
   "cell_type": "code",
   "execution_count": 30,
   "metadata": {},
   "outputs": [
    {
     "name": "stdout",
     "output_type": "stream",
     "text": [
      "(25092, 249)\n",
      "(25092, 249)\n"
     ]
    }
   ],
   "source": [
    "print(survey_num.shape)\n",
    "survey_num.dropna(axis=0,how='all',inplace=True)\n",
    "print(survey_num.shape)"
   ]
  },
  {
   "cell_type": "markdown",
   "metadata": {},
   "source": [
    "### Gender Response"
   ]
  },
  {
   "cell_type": "code",
   "execution_count": 83,
   "metadata": {},
   "outputs": [
    {
     "name": "stdout",
     "output_type": "stream",
     "text": [
      "Male          20774\n",
      "Female         4122\n",
      "Non-Binary      125\n",
      "Name: q3Gender, dtype: int64\n"
     ]
    },
    {
     "data": {
      "image/png": "[encoded data removed]",
      "text/plain": [
       "<Figure size 1152x144 with 1 Axes>"
      ]
     },
     "metadata": {},
     "output_type": "display_data"
    }
   ],
   "source": [
    "plt.figure(figsize=(16,2))\n",
    "count =  survey['q3Gender'].value_counts()\n",
    "print(count)\n",
    "sns.barplot(count.values,count.index)\n",
    "for i,v in enumerate(count.values):\n",
    "    plt.text(0.8,i,v,color='k',fontsize=12)\n",
    "    \n",
    "plt.title('Gender Distribution')\n",
    "plt.xlabel('Count')\n",
    "plt.show()"
   ]
  },
  {
   "cell_type": "markdown",
   "metadata": {},
   "source": [
    "### Age Band Distribution"
   ]
  },
  {
   "cell_type": "code",
   "execution_count": 82,
   "metadata": {},
   "outputs": [
    {
     "name": "stdout",
     "output_type": "stream",
     "text": [
      "18 - 24 years old     12589\n",
      "25 - 34 years old      8514\n",
      "35 - 44 years old      2333\n",
      "12 - 18 years old      1011\n",
      "45 - 54 years old       468\n",
      "55 - 64 years old       102\n",
      "Under 12 years old       13\n",
      "65 - 74 years old        11\n",
      "75 years or older         8\n",
      "Name: q2Age, dtype: int64\n"
     ]
    },
    {
     "data": {
      "image/png": "[encoded data removed]",
      "text/plain": [
       "<Figure size 864x360 with 1 Axes>"
      ]
     },
     "metadata": {},
     "output_type": "display_data"
    }
   ],
   "source": [
    "count = survey['q2Age'].value_counts()\n",
    "print(count)\n",
    "plt.figure(figsize=(12,5))\n",
    "sns.barplot(count.values,count.index)\n",
    "for i,v in enumerate(count.values):\n",
    "    plt.text(0.8,i,v,color='k',fontsize=12)\n",
    "    \n",
    "plt.title('Age Distribution')\n",
    "plt.show()\n"
   ]
  },
  {
   "cell_type": "markdown",
   "metadata": {},
   "source": [
    "### Age Begin coding"
   ]
  },
  {
   "cell_type": "code",
   "execution_count": 93,
   "metadata": {},
   "outputs": [
    {
     "name": "stdout",
     "output_type": "stream",
     "text": [
      "16 - 20 years old     14293\n",
      "11 - 15 years old      5264\n",
      "21 - 25 years old      3626\n",
      "5 - 10 years old        933\n",
      "26 - 30 years old       642\n",
      "31 - 35 years old       193\n",
      "36 - 40 years old        67\n",
      "41 - 50 years old        34\n",
      "50+ years or older        8\n",
      "Name: q1AgeBeginCoding, dtype: int64\n"
     ]
    },
    {
     "data": {
      "image/png": "[encoded data removed]",
      "text/plain": [
       "<Figure size 720x432 with 1 Axes>"
      ]
     },
     "metadata": {},
     "output_type": "display_data"
    }
   ],
   "source": [
    "count = survey['q1AgeBeginCoding'].value_counts()\n",
    "print (count)\n",
    "plt.figure(figsize=(10,6))\n",
    "sns.barplot(count.values,count.index,)\n",
    "for i,v in enumerate(count.values):\n",
    "    plt.text(0.8,i,v,color='k',fontsize=12)\n",
    "\n",
    "plt.title('Distribution of Age begin coding')\n",
    "plt.xlabel('count')\n",
    "plt.show()\n",
    "\n"
   ]
  },
  {
   "cell_type": "markdown",
   "metadata": {},
   "source": [
    "### Distribution of Age Begin coding grouped by gender"
   ]
  },
  {
   "cell_type": "code",
   "execution_count": 123,
   "metadata": {},
   "outputs": [
    {
     "name": "stdout",
     "output_type": "stream",
     "text": [
      "q3Gender            Female     Male  Non-Binary\n",
      "q1AgeBeginCoding                               \n",
      "11 - 15 years old    569.0   4651.0        37.0\n",
      "16 - 20 years old   2657.0  11543.0        57.0\n",
      "21 - 25 years old    609.0   2998.0        11.0\n",
      "26 - 30 years old    130.0    506.0         5.0\n",
      "31 - 35 years old     48.0    144.0         1.0\n",
      "36 - 40 years old     19.0     47.0         1.0\n",
      "41 - 50 years old     12.0     22.0         NaN\n",
      "5 - 10 years old      71.0    848.0        11.0\n",
      "50+ years or older     3.0      3.0         2.0\n"
     ]
    },
    {
     "data": {
      "image/png": "[encoded data removed]",
      "text/plain": [
       "<Figure size 1152x360 with 2 Axes>"
      ]
     },
     "metadata": {},
     "output_type": "display_data"
    }
   ],
   "source": [
    "count = survey.groupby(['q1AgeBeginCoding','q3Gender'])['q3Gender'].count().reset_index(name = 'count')\n",
    "#print(count)\n",
    "count = count.pivot(columns='q3Gender', index= 'q1AgeBeginCoding',values='count')\n",
    "print(count)\n",
    "plt.figure(figsize= (16,5))\n",
    "sns.heatmap(count,fmt='.0f',cmap='YlGnBu',linewidths=.01,annot=True)\n",
    "\n",
    "    \n",
    "plt.title('Age Begin Coding based on Gender')\n",
    "plt.xlabel('Gender')\n",
    "plt.ylabel('Age Band')\n",
    "plt.show()"
   ]
  },
  {
   "cell_type": "code",
   "execution_count": null,
   "metadata": {},
   "outputs": [],
   "source": []
  },
  {
   "cell_type": "markdown",
   "metadata": {},
   "source": [
    "### Let's explore the top 3 most important qualifications recruiters look for in an engineering candidate before the onsite"
   ]
  },
  {
   "cell_type": "code",
   "execution_count": 14,
   "metadata": {},
   "outputs": [
    {
     "name": "stdout",
     "output_type": "stream",
     "text": [
      "Index(['q20CandYearExp', 'q20CandCompScienceDegree', 'q20CandCodingBootcamp',\n",
      "       'q20CandSkillCert', 'q20CandHackerRankActivity',\n",
      "       'q20CandOtherCodingCommAct', 'q20CandGithubPersProj',\n",
      "       'q20CandOpenSourceContrib', 'q20CandHackathonPart',\n",
      "       'q20CandPrevWorkExp', 'q20CandPrestigeDegree', 'q20CandLinkInSkills',\n",
      "       'q20CandGithubPersProj2', 'q20Other'],\n",
      "      dtype='object')\n",
      "(25092, 14)\n"
     ]
    }
   ],
   "source": [
    "qual = survey[survey.columns[68:82]]\n",
    "print(qual.columns)\n",
    "print(qual.shape)\n"
   ]
  },
  {
   "cell_type": "code",
   "execution_count": 15,
   "metadata": {},
   "outputs": [
    {
     "name": "stdout",
     "output_type": "stream",
     "text": [
      "        q20CandYearExp q20CandCompScienceDegree      q20CandCodingBootcamp  \\\n",
      "0                  NaN                      NaN                        NaN   \n",
      "1                  NaN                      NaN  Coding bootcamp education   \n",
      "2                  NaN                      NaN                        NaN   \n",
      "3                  NaN                      NaN                        NaN   \n",
      "4  Years of experience                      NaN                        NaN   \n",
      "5                  NaN                      NaN                        NaN   \n",
      "6  Years of experience                      NaN                        NaN   \n",
      "7                  NaN                      NaN                        NaN   \n",
      "8                  NaN                      NaN                        NaN   \n",
      "9                  NaN                      NaN                        NaN   \n",
      "\n",
      "  q20CandSkillCert q20CandHackerRankActivity q20CandOtherCodingCommAct  \\\n",
      "0              NaN                       NaN                       NaN   \n",
      "1              NaN                       NaN                       NaN   \n",
      "2              NaN                       NaN                       NaN   \n",
      "3              NaN                       NaN                       NaN   \n",
      "4              NaN                       NaN                       NaN   \n",
      "5              NaN                       NaN                       NaN   \n",
      "6              NaN                       NaN                       NaN   \n",
      "7              NaN                       NaN                       NaN   \n",
      "8              NaN                       NaN                       NaN   \n",
      "9              NaN                       NaN                       NaN   \n",
      "\n",
      "   q20CandGithubPersProj q20CandOpenSourceContrib q20CandHackathonPart  \\\n",
      "0                    NaN                      NaN                  NaN   \n",
      "1                    NaN                      NaN                  NaN   \n",
      "2                    NaN                      NaN                  NaN   \n",
      "3                    NaN                      NaN                  NaN   \n",
      "4                    NaN                      NaN                  NaN   \n",
      "5                    NaN                      NaN                  NaN   \n",
      "6                    NaN                      NaN                  NaN   \n",
      "7                    NaN                      NaN                  NaN   \n",
      "8                    NaN                      NaN                  NaN   \n",
      "9                    NaN                      NaN                  NaN   \n",
      "\n",
      "         q20CandPrevWorkExp q20CandPrestigeDegree q20CandLinkInSkills  \\\n",
      "0                       NaN                   NaN                 NaN   \n",
      "1  Previous work experience                   NaN                 NaN   \n",
      "2                       NaN                   NaN                 NaN   \n",
      "3                       NaN                   NaN                 NaN   \n",
      "4  Previous work experience                   NaN                 NaN   \n",
      "5                       NaN                   NaN                 NaN   \n",
      "6  Previous work experience    Prestige of degree                 NaN   \n",
      "7                       NaN                   NaN                 NaN   \n",
      "8                       NaN                   NaN                 NaN   \n",
      "9                       NaN                   NaN                 NaN   \n",
      "\n",
      "        q20CandGithubPersProj2 q20Other  \n",
      "0                          NaN      NaN  \n",
      "1  Github or personal projects      NaN  \n",
      "2                          NaN      NaN  \n",
      "3                          NaN      NaN  \n",
      "4  Github or personal projects      NaN  \n",
      "5                          NaN      NaN  \n",
      "6                          NaN      NaN  \n",
      "7                          NaN      NaN  \n",
      "8                          NaN      NaN  \n",
      "9                          NaN      NaN  \n",
      "--------------------------------------------------\n",
      "q20CandYearExp               20404\n",
      "q20CandCompScienceDegree     22091\n",
      "q20CandCodingBootcamp        24583\n",
      "q20CandSkillCert             23568\n",
      "q20CandHackerRankActivity    24291\n",
      "q20CandOtherCodingCommAct    23543\n",
      "q20CandGithubPersProj        25092\n",
      "q20CandOpenSourceContrib     23002\n",
      "q20CandHackathonPart         24341\n",
      "q20CandPrevWorkExp           19034\n",
      "q20CandPrestigeDegree        24562\n",
      "q20CandLinkInSkills          24445\n",
      "q20CandGithubPersProj2       20660\n",
      "q20Other                     24540\n",
      "dtype: int64\n",
      "--------------------------------------------------\n",
      "(25092, 14)\n"
     ]
    }
   ],
   "source": [
    "print(qual.head(10))\n",
    "print('-'*50)\n",
    "print(qual.isnull().sum())\n",
    "print('-'*50)\n",
    "print(qual.shape)"
   ]
  },
  {
   "cell_type": "code",
   "execution_count": 54,
   "metadata": {},
   "outputs": [],
   "source": [
    "label =  qual.dtypes.index\n",
    "count = []"
   ]
  },
  {
   "cell_type": "code",
   "execution_count": 55,
   "metadata": {},
   "outputs": [
    {
     "name": "stdout",
     "output_type": "stream",
     "text": [
      "Index(['q20CandYearExp', 'q20CandCompScienceDegree', 'q20CandCodingBootcamp',\n",
      "       'q20CandSkillCert', 'q20CandHackerRankActivity',\n",
      "       'q20CandOtherCodingCommAct', 'q20CandGithubPersProj',\n",
      "       'q20CandOpenSourceContrib', 'q20CandHackathonPart',\n",
      "       'q20CandPrevWorkExp', 'q20CandPrestigeDegree', 'q20CandLinkInSkills',\n",
      "       'q20CandGithubPersProj2', 'q20Other'],\n",
      "      dtype='object')\n"
     ]
    }
   ],
   "source": [
    "print(label) "
   ]
  },
  {
   "cell_type": "code",
   "execution_count": 56,
   "metadata": {},
   "outputs": [
    {
     "name": "stdout",
     "output_type": "stream",
     "text": [
      "[4688, 3001, 509, 1524, 801, 1549, 0, 2090, 751, 6058, 530, 647, 4432, 552]\n"
     ]
    }
   ],
   "source": [
    "for i in label:\n",
    "    count.append(qual[i].count())\n",
    "print (count)"
   ]
  },
  {
   "cell_type": "code",
   "execution_count": 57,
   "metadata": {},
   "outputs": [],
   "source": [
    "x=[]\n",
    "for i in label:\n",
    "    x.append(i.lstrip('q20Cand'))"
   ]
  },
  {
   "cell_type": "code",
   "execution_count": 58,
   "metadata": {},
   "outputs": [],
   "source": [
    "from collections import OrderedDict\n",
    "from operator import itemgetter"
   ]
  },
  {
   "cell_type": "code",
   "execution_count": 70,
   "metadata": {},
   "outputs": [
    {
     "name": "stdout",
     "output_type": "stream",
     "text": [
      "['PrevWorkExp', 'YearExp', 'GithubPersProj2', 'ompScienceDegree', 'OpenSourceContrib', 'OtherCodingCommAct', 'SkillCert', 'HackerRankActivity', 'HackathonPart', 'LinkInSkills', 'Other', 'PrestigeDegree', 'odingBootcamp', 'GithubPersProj']\n",
      "[6058, 4688, 4432, 3001, 2090, 1549, 1524, 801, 751, 647, 552, 530, 509, 0]\n"
     ]
    }
   ],
   "source": [
    "qal_dict = sorted(zip(count,x),reverse=True)\n",
    "x = [v for k,v in qal_dict]\n",
    "count = [k for k,v in qal_dict]\n",
    "print(x)\n",
    "print(count)\n"
   ]
  },
  {
   "cell_type": "code",
   "execution_count": 71,
   "metadata": {},
   "outputs": [
    {
     "data": {
      "image/png": "[encoded data removed]",
      "text/plain": [
       "<Figure size 432x288 with 1 Axes>"
      ]
     },
     "metadata": {},
     "output_type": "display_data"
    }
   ],
   "source": [
    "plt.bar(x=x,height=count,width=0.5)\n",
    "plt.xticks(rotation=90)\n",
    "plt.show()"
   ]
  },
  {
   "cell_type": "code",
   "execution_count": 72,
   "metadata": {},
   "outputs": [
    {
     "data": {
      "image/png": "[encoded data removed]",
      "text/plain": [
       "<Figure size 432x720 with 1 Axes>"
      ]
     },
     "metadata": {},
     "output_type": "display_data"
    }
   ],
   "source": [
    "plt.figure(figsize=(6,10))\n",
    "sns.barplot(count,x)\n",
    "plt.show()"
   ]
  },
  {
   "cell_type": "code",
   "execution_count": null,
   "metadata": {},
   "outputs": [],
   "source": []
  },
  {
   "cell_type": "code",
   "execution_count": null,
   "metadata": {},
   "outputs": [],
   "source": []
  }
 ],
 "metadata": {
  "kernelspec": {
   "display_name": "Python 3",
   "language": "python",
   "name": "python3"
  },
  "language_info": {
   "codemirror_mode": {
    "name": "ipython",
    "version": 3
   },
   "file_extension": ".py",
   "mimetype": "text/x-python",
   "name": "python",
   "nbconvert_exporter": "python",
   "pygments_lexer": "ipython3",
   "version": "3.6.4"
  }
 },
 "nbformat": 4,
 "nbformat_minor": 2
}
